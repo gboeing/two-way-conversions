{
 "cells": [
  {
   "cell_type": "code",
   "execution_count": 1,
   "metadata": {},
   "outputs": [
    {
     "data": {
      "text/plain": [
       "'1.1.1'"
      ]
     },
     "execution_count": 1,
     "metadata": {},
     "output_type": "execute_result"
    }
   ],
   "source": [
    "import osmnx as ox \n",
    "ox.config(use_cache=True, log_console=True)\n",
    "ox.__version__"
   ]
  },
  {
   "cell_type": "code",
   "execution_count": 2,
   "metadata": {},
   "outputs": [],
   "source": [
    "place = {'city':'San Francisco', 'state':'California', 'country':'USA'}\n",
    "G = ox.graph_from_place(place,\n",
    "                        network_type='drive',\n",
    "                        simplify=True,\n",
    "                        retain_all=False, \n",
    "                        truncate_by_edge=True,\n",
    "                        clean_periphery=True)"
   ]
  },
  {
   "cell_type": "code",
   "execution_count": 3,
   "metadata": {},
   "outputs": [],
   "source": [
    "G = ox.add_edge_speeds(G)\n",
    "G = ox.add_edge_travel_times(G)"
   ]
  },
  {
   "cell_type": "code",
   "execution_count": 4,
   "metadata": {},
   "outputs": [
    {
     "data": {
      "text/plain": [
       "residential                        17765\n",
       "tertiary                            3707\n",
       "secondary                           2610\n",
       "primary                             1534\n",
       "unclassified                         558\n",
       "motorway_link                        150\n",
       "motorway                             126\n",
       "primary_link                         111\n",
       "secondary_link                        83\n",
       "trunk                                 47\n",
       "tertiary_link                         30\n",
       "living_street                         28\n",
       "trunk_link                            27\n",
       "['residential', 'unclassified']       23\n",
       "busway                                19\n",
       "['residential', 'tertiary']            9\n",
       "['tertiary', 'unclassified']           7\n",
       "['secondary', 'tertiary']              4\n",
       "['secondary', 'living_street']         2\n",
       "['secondary', 'primary']               1\n",
       "['primary_link', 'secondary']          1\n",
       "Name: highway, dtype: int64"
      ]
     },
     "execution_count": 4,
     "metadata": {},
     "output_type": "execute_result"
    }
   ],
   "source": [
    "nodes, edges = ox.graph_to_gdfs(G)\n",
    "edges['highway'].astype(str).value_counts()"
   ]
  },
  {
   "cell_type": "markdown",
   "metadata": {},
   "source": [
    "## filter out motorway edges"
   ]
  },
  {
   "cell_type": "code",
   "execution_count": 5,
   "metadata": {},
   "outputs": [],
   "source": [
    "e = [(u, v, k) for u, v, k, d in G.edges(keys=True, data=True) if 'motorway' in d['highway']]"
   ]
  },
  {
   "cell_type": "code",
   "execution_count": 6,
   "metadata": {},
   "outputs": [],
   "source": [
    "# remove motorway edges then retain only the largest strongly connected component\n",
    "G.remove_edges_from(e)\n",
    "G = ox.utils_graph.get_largest_component(G, strongly=True)"
   ]
  },
  {
   "cell_type": "code",
   "execution_count": 7,
   "metadata": {},
   "outputs": [
    {
     "data": {
      "text/plain": [
       "residential                        17552\n",
       "tertiary                            3614\n",
       "secondary                           2610\n",
       "primary                             1530\n",
       "unclassified                         528\n",
       "primary_link                         102\n",
       "secondary_link                        82\n",
       "trunk                                 37\n",
       "tertiary_link                         30\n",
       "living_street                         21\n",
       "['residential', 'unclassified']       19\n",
       "busway                                19\n",
       "trunk_link                            19\n",
       "['residential', 'tertiary']            9\n",
       "['tertiary', 'unclassified']           7\n",
       "['secondary', 'tertiary']              4\n",
       "['secondary', 'living_street']         2\n",
       "['secondary', 'primary']               1\n",
       "['primary_link', 'secondary']          1\n",
       "Name: highway, dtype: int64"
      ]
     },
     "execution_count": 7,
     "metadata": {},
     "output_type": "execute_result"
    }
   ],
   "source": [
    "nodes, edges = ox.graph_to_gdfs(G)\n",
    "edges['highway'].astype(str).value_counts()"
   ]
  },
  {
   "cell_type": "markdown",
   "metadata": {},
   "source": [
    "## save graphs to disk\n",
    "\n",
    "save directed graph to disk"
   ]
  },
  {
   "cell_type": "code",
   "execution_count": 8,
   "metadata": {},
   "outputs": [],
   "source": [
    "ox.save_graphml(G, filepath='data/network/sf-directed-no-fwy.graphml')"
   ]
  },
  {
   "cell_type": "code",
   "execution_count": 9,
   "metadata": {},
   "outputs": [],
   "source": [
    "nodes = ox.graph_to_gdfs(G, edges=False, node_geometry=False)\n",
    "nodes.to_csv('data/network/sf-directed-no-fwy-nodelist.csv', index=True, encoding='utf-8')"
   ]
  },
  {
   "cell_type": "markdown",
   "metadata": {},
   "source": [
    "save undirected representation of graph to disk"
   ]
  },
  {
   "cell_type": "code",
   "execution_count": 10,
   "metadata": {},
   "outputs": [],
   "source": [
    "G_undir = ox.get_undirected(G)"
   ]
  },
  {
   "cell_type": "code",
   "execution_count": 11,
   "metadata": {},
   "outputs": [],
   "source": [
    "ox.save_graphml(G_undir, filepath='data/network/sf-undirected-no-fwy.graphml')"
   ]
  },
  {
   "cell_type": "code",
   "execution_count": 12,
   "metadata": {},
   "outputs": [],
   "source": [
    "nodes = ox.graph_to_gdfs(G_undir, edges=False, node_geometry=False)\n",
    "nodes.to_csv('data/network/sf-undirected-no-fwy-nodelist.csv', index=True, encoding='utf-8')"
   ]
  },
  {
   "cell_type": "code",
   "execution_count": null,
   "metadata": {},
   "outputs": [],
   "source": []
  }
 ],
 "metadata": {
  "kernelspec": {
   "display_name": "Python (ox)",
   "language": "python",
   "name": "ox"
  },
  "language_info": {
   "codemirror_mode": {
    "name": "ipython",
    "version": 3
   },
   "file_extension": ".py",
   "mimetype": "text/x-python",
   "name": "python",
   "nbconvert_exporter": "python",
   "pygments_lexer": "ipython3",
   "version": "3.9.7"
  }
 },
 "nbformat": 4,
 "nbformat_minor": 4
}
