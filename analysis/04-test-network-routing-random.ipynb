{
 "cells": [
  {
   "cell_type": "markdown",
   "metadata": {},
   "source": [
    "# Calculate network routes between random origins and destinations\n",
    "\n",
    "Random ODs. Ignoring freeways for plausibility and using igraph + multiprocessing for fast simulation."
   ]
  },
  {
   "cell_type": "code",
   "execution_count": 1,
   "metadata": {},
   "outputs": [],
   "source": [
    "import igraph as ig\n",
    "import math\n",
    "import matplotlib.pyplot as plt\n",
    "import multiprocessing as mp\n",
    "import networkx as nx\n",
    "import numpy as np\n",
    "import osmnx as ox\n",
    "import pandas as pd\n",
    "from scipy.stats import ttest_ind, ttest_rel\n",
    "np.random.seed(0)\n",
    "\n",
    "weight = 'length'\n",
    "simulate_all_trips = True"
   ]
  },
  {
   "cell_type": "markdown",
   "metadata": {},
   "source": [
    "## Load network and ODs"
   ]
  },
  {
   "cell_type": "code",
   "execution_count": 2,
   "metadata": {},
   "outputs": [
    {
     "name": "stdout",
     "output_type": "stream",
     "text": [
      "CPU times: user 2.51 s, sys: 41.4 ms, total: 2.55 s\n",
      "Wall time: 2.55 s\n"
     ]
    }
   ],
   "source": [
    "%%time\n",
    "# load the networks\n",
    "G_dir = ox.load_graphml('data/network/sf-directed-no-fwy.graphml')\n",
    "G_undir = ox.load_graphml('data/network/sf-undirected-no-fwy.graphml')"
   ]
  },
  {
   "cell_type": "code",
   "execution_count": 3,
   "metadata": {},
   "outputs": [
    {
     "name": "stdout",
     "output_type": "stream",
     "text": [
      "True\n",
      "True\n"
     ]
    }
   ],
   "source": [
    "print(nx.is_strongly_connected(G_dir))\n",
    "print(nx.is_connected(G_undir))"
   ]
  },
  {
   "cell_type": "code",
   "execution_count": 4,
   "metadata": {},
   "outputs": [],
   "source": [
    "# generate random ODs from the nodes common to both graphs\n",
    "# (so we're simulating the same set of trips on each graph)\n",
    "nodes_dir = ox.graph_to_gdfs(G_dir, edges=False, node_geometry=False, fill_edge_geometry=False)\n",
    "nodes_undir = ox.graph_to_gdfs(G_undir, edges=False, node_geometry=False, fill_edge_geometry=False)\n",
    "common_nodes = pd.Series(list(set(nodes_dir.index.tolist()) & set(nodes_undir.index.tolist())))\n",
    "\n",
    "od_dir = pd.DataFrame()\n",
    "od_dir['orig'] = common_nodes.sample(frac=1).values\n",
    "od_dir['dest'] = common_nodes.sample(frac=1).values\n",
    "od_undir = od_dir"
   ]
  },
  {
   "cell_type": "code",
   "execution_count": 5,
   "metadata": {},
   "outputs": [
    {
     "name": "stdout",
     "output_type": "stream",
     "text": [
      "9317\n"
     ]
    }
   ],
   "source": [
    "# confirm the origins and destinations match between the two datasets\n",
    "assert (od_dir['orig']==od_undir['orig']).sum() == len(od_dir) == len(od_undir)\n",
    "assert (od_dir['dest']==od_undir['dest']).sum() == len(od_dir) == len(od_undir)\n",
    "print(len(od_dir))"
   ]
  },
  {
   "cell_type": "markdown",
   "metadata": {},
   "source": [
    "## How many trips to simulate"
   ]
  },
  {
   "cell_type": "code",
   "execution_count": 6,
   "metadata": {},
   "outputs": [
    {
     "data": {
      "text/plain": [
       "122"
      ]
     },
     "execution_count": 6,
     "metadata": {},
     "output_type": "execute_result"
    }
   ],
   "source": [
    "# there are 1,133,333 daily trips that begin/end in SF\n",
    "if simulate_all_trips:\n",
    "    total_daily_trips = 1133333\n",
    "    multiplier = total_daily_trips / len(od_dir)\n",
    "    multiplier = math.ceil(multiplier)\n",
    "else:\n",
    "    multiplier = 1\n",
    "multiplier"
   ]
  },
  {
   "cell_type": "code",
   "execution_count": 7,
   "metadata": {},
   "outputs": [
    {
     "data": {
      "text/plain": [
       "1136674"
      ]
     },
     "execution_count": 7,
     "metadata": {},
     "output_type": "execute_result"
    }
   ],
   "source": [
    "od_dir = pd.concat([od_dir]*multiplier, ignore_index=True)\n",
    "len(od_dir)"
   ]
  },
  {
   "cell_type": "code",
   "execution_count": 8,
   "metadata": {},
   "outputs": [
    {
     "data": {
      "text/plain": [
       "1136674"
      ]
     },
     "execution_count": 8,
     "metadata": {},
     "output_type": "execute_result"
    }
   ],
   "source": [
    "od_undir = pd.concat([od_undir]*multiplier, ignore_index=True)\n",
    "len(od_dir)"
   ]
  },
  {
   "cell_type": "markdown",
   "metadata": {},
   "source": [
    "## Convert networkx graphs to igraph"
   ]
  },
  {
   "cell_type": "code",
   "execution_count": 9,
   "metadata": {},
   "outputs": [],
   "source": [
    "# save osmid in attributes dict so we can retain it after integer-labeling nodes\n",
    "for nodeid, data in G_dir.nodes().items():\n",
    "    data['osmid'] = nodeid\n",
    "for nodeid, data in G_undir.nodes().items():\n",
    "    data['osmid'] = nodeid"
   ]
  },
  {
   "cell_type": "code",
   "execution_count": 10,
   "metadata": {},
   "outputs": [],
   "source": [
    "G_dir = nx.relabel.convert_node_labels_to_integers(G_dir)\n",
    "G_dir_nodeid_to_osmid = {data['osmid']:nodeid for nodeid, data in G_dir.nodes().items()}\n",
    "\n",
    "G_undir = nx.relabel.convert_node_labels_to_integers(G_undir)\n",
    "G_undir_nodeid_to_osmid = {data['osmid']:nodeid for nodeid, data in G_undir.nodes().items()}"
   ]
  },
  {
   "cell_type": "code",
   "execution_count": 11,
   "metadata": {},
   "outputs": [
    {
     "name": "stdout",
     "output_type": "stream",
     "text": [
      "CPU times: user 55.1 ms, sys: 0 ns, total: 55.1 ms\n",
      "Wall time: 54.6 ms\n"
     ]
    }
   ],
   "source": [
    "%%time\n",
    "# convert directed networkx graph to igraph\n",
    "G_dir_ig = ig.Graph(directed=True)\n",
    "G_dir_ig.add_vertices(list(G_dir.nodes()))\n",
    "G_dir_ig.add_edges(list(G_dir.edges()))\n",
    "G_dir_ig.vs['osmid'] = list(nx.get_node_attributes(G_dir, 'osmid').values())\n",
    "G_dir_ig.es[weight] = list(nx.get_edge_attributes(G_dir, weight).values())\n",
    "\n",
    "assert len(G_dir.nodes()) == G_dir_ig.vcount()\n",
    "assert len(G_dir.edges()) == G_dir_ig.ecount()"
   ]
  },
  {
   "cell_type": "code",
   "execution_count": 12,
   "metadata": {},
   "outputs": [
    {
     "name": "stdout",
     "output_type": "stream",
     "text": [
      "CPU times: user 38.3 ms, sys: 377 µs, total: 38.7 ms\n",
      "Wall time: 38.5 ms\n"
     ]
    }
   ],
   "source": [
    "%%time\n",
    "# convert undirected networkx graph to igraph\n",
    "G_undir_ig = ig.Graph(directed=False)\n",
    "G_undir_ig.add_vertices(list(G_undir.nodes()))\n",
    "G_undir_ig.add_edges(list(G_undir.edges()))\n",
    "G_undir_ig.vs['osmid'] = list(nx.get_node_attributes(G_undir, 'osmid').values())\n",
    "G_undir_ig.es[weight] = list(nx.get_edge_attributes(G_undir, weight).values())\n",
    "\n",
    "assert len(G_undir.nodes()) == G_undir_ig.vcount()\n",
    "assert len(G_undir.edges()) == G_undir_ig.ecount()"
   ]
  },
  {
   "cell_type": "markdown",
   "metadata": {},
   "source": [
    "# Simulate routes between origins and destinations"
   ]
  },
  {
   "cell_type": "code",
   "execution_count": 13,
   "metadata": {},
   "outputs": [],
   "source": [
    "def network_distance(G_ig, source, target, weight):\n",
    "    try:\n",
    "        return G_ig.shortest_paths(source=source, target=target, weights=weight)[0][0]\n",
    "    except:\n",
    "        return np.nan\n",
    "\n",
    "def mp_paths(G_ig, orig, dest, weight, mapper):\n",
    "    sources = (mapper[o] for o in orig)\n",
    "    targets = (mapper[d] for d in dest)\n",
    "    args = ((G_ig, s, t, weight) for s, t in zip(sources, targets))\n",
    "    pool = mp.Pool(mp.cpu_count())\n",
    "    sma = pool.starmap_async(network_distance, args)  \n",
    "    results = sma.get()\n",
    "    pool.close()\n",
    "    pool.join()\n",
    "    return results"
   ]
  },
  {
   "cell_type": "code",
   "execution_count": 14,
   "metadata": {},
   "outputs": [
    {
     "name": "stdout",
     "output_type": "stream",
     "text": [
      "CPU times: user 2.71 s, sys: 221 ms, total: 2.94 s\n",
      "Wall time: 1min\n"
     ]
    }
   ],
   "source": [
    "%%time\n",
    "# edges traversed along the real-world directed graph\n",
    "G_ig = G_dir_ig\n",
    "df = od_dir\n",
    "mapper = G_dir_nodeid_to_osmid\n",
    "w = None\n",
    "col = 'edges_traversed'\n",
    "df[col] = mp_paths(G_ig, df['orig'], df['dest'], w, mapper)"
   ]
  },
  {
   "cell_type": "code",
   "execution_count": 15,
   "metadata": {},
   "outputs": [
    {
     "name": "stdout",
     "output_type": "stream",
     "text": [
      "CPU times: user 2.24 s, sys: 228 ms, total: 2.47 s\n",
      "Wall time: 1min 3s\n"
     ]
    }
   ],
   "source": [
    "%%time\n",
    "# edges traversed along the bidirectional undirected graph\n",
    "G_ig = G_undir_ig\n",
    "df = od_undir\n",
    "mapper = G_undir_nodeid_to_osmid\n",
    "w = None\n",
    "col = 'edges_traversed'\n",
    "df[col] = mp_paths(G_ig, df['orig'], df['dest'], w, mapper)"
   ]
  },
  {
   "cell_type": "code",
   "execution_count": 16,
   "metadata": {},
   "outputs": [
    {
     "name": "stdout",
     "output_type": "stream",
     "text": [
      "CPU times: user 3.06 s, sys: 369 ms, total: 3.43 s\n",
      "Wall time: 1min 51s\n"
     ]
    }
   ],
   "source": [
    "%%time\n",
    "# meters traveled along the real-world directed graph\n",
    "G_ig = G_dir_ig\n",
    "df = od_dir\n",
    "mapper = G_dir_nodeid_to_osmid\n",
    "w = weight\n",
    "col = 'meters_traveled'\n",
    "df[col] = mp_paths(G_ig, df['orig'], df['dest'], w, mapper)"
   ]
  },
  {
   "cell_type": "code",
   "execution_count": 17,
   "metadata": {},
   "outputs": [
    {
     "name": "stdout",
     "output_type": "stream",
     "text": [
      "CPU times: user 2.63 s, sys: 287 ms, total: 2.92 s\n",
      "Wall time: 1min 37s\n"
     ]
    }
   ],
   "source": [
    "%%time\n",
    "# meters traveled along the bidirectional undirected graph\n",
    "G_ig = G_undir_ig\n",
    "df = od_undir\n",
    "mapper = G_undir_nodeid_to_osmid\n",
    "w = weight\n",
    "col = 'meters_traveled'\n",
    "df[col] = mp_paths(G_ig, df['orig'], df['dest'], w, mapper)"
   ]
  },
  {
   "cell_type": "markdown",
   "metadata": {},
   "source": [
    "# Analysis\n",
    "\n",
    "### Topological distance (blocks traversed)"
   ]
  },
  {
   "cell_type": "code",
   "execution_count": 18,
   "metadata": {},
   "outputs": [
    {
     "data": {
      "text/html": [
       "<div>\n",
       "<style scoped>\n",
       "    .dataframe tbody tr th:only-of-type {\n",
       "        vertical-align: middle;\n",
       "    }\n",
       "\n",
       "    .dataframe tbody tr th {\n",
       "        vertical-align: top;\n",
       "    }\n",
       "\n",
       "    .dataframe thead th {\n",
       "        text-align: right;\n",
       "    }\n",
       "</style>\n",
       "<table border=\"1\" class=\"dataframe\">\n",
       "  <thead>\n",
       "    <tr style=\"text-align: right;\">\n",
       "      <th></th>\n",
       "      <th>edges_traversed_dir</th>\n",
       "      <th>edges_traversed_undir</th>\n",
       "    </tr>\n",
       "  </thead>\n",
       "  <tbody>\n",
       "    <tr>\n",
       "      <th>count</th>\n",
       "      <td>1136674.00</td>\n",
       "      <td>1136674.00</td>\n",
       "    </tr>\n",
       "    <tr>\n",
       "      <th>mean</th>\n",
       "      <td>51.79</td>\n",
       "      <td>49.04</td>\n",
       "    </tr>\n",
       "    <tr>\n",
       "      <th>std</th>\n",
       "      <td>22.56</td>\n",
       "      <td>21.44</td>\n",
       "    </tr>\n",
       "    <tr>\n",
       "      <th>min</th>\n",
       "      <td>1.00</td>\n",
       "      <td>1.00</td>\n",
       "    </tr>\n",
       "    <tr>\n",
       "      <th>25%</th>\n",
       "      <td>35.00</td>\n",
       "      <td>33.00</td>\n",
       "    </tr>\n",
       "    <tr>\n",
       "      <th>50%</th>\n",
       "      <td>51.00</td>\n",
       "      <td>48.00</td>\n",
       "    </tr>\n",
       "    <tr>\n",
       "      <th>75%</th>\n",
       "      <td>68.00</td>\n",
       "      <td>65.00</td>\n",
       "    </tr>\n",
       "    <tr>\n",
       "      <th>max</th>\n",
       "      <td>123.00</td>\n",
       "      <td>117.00</td>\n",
       "    </tr>\n",
       "  </tbody>\n",
       "</table>\n",
       "</div>"
      ],
      "text/plain": [
       "       edges_traversed_dir  edges_traversed_undir\n",
       "count           1136674.00             1136674.00\n",
       "mean                 51.79                  49.04\n",
       "std                  22.56                  21.44\n",
       "min                   1.00                   1.00\n",
       "25%                  35.00                  33.00\n",
       "50%                  51.00                  48.00\n",
       "75%                  68.00                  65.00\n",
       "max                 123.00                 117.00"
      ]
     },
     "execution_count": 18,
     "metadata": {},
     "output_type": "execute_result"
    }
   ],
   "source": [
    "left = od_dir['edges_traversed'].describe().round(2)\n",
    "left.name = 'edges_traversed_dir'\n",
    "right = od_undir['edges_traversed'].describe().round(2)\n",
    "right.name = 'edges_traversed_undir'\n",
    "pd.concat([left, right], axis='columns')"
   ]
  },
  {
   "cell_type": "code",
   "execution_count": 19,
   "metadata": {},
   "outputs": [
    {
     "name": "stdout",
     "output_type": "stream",
     "text": [
      "n=1136674, δ=2.75, t=1196.70, p=0.0000\n"
     ]
    }
   ],
   "source": [
    "# are the average blocks-traveled per trip significantly different?\n",
    "a = od_dir['edges_traversed']\n",
    "b = od_undir['edges_traversed']\n",
    "diff = a.mean() - b.mean()\n",
    "t, p = ttest_rel(a=a, b=b, alternative='greater', nan_policy='omit')\n",
    "print('n={:}, δ={:0.2f}, t={:0.2f}, p={:0.4f}'.format(len(a), diff, t, p))"
   ]
  },
  {
   "cell_type": "code",
   "execution_count": 20,
   "metadata": {},
   "outputs": [
    {
     "data": {
      "image/png": "[encoded data removed]",
      "text/plain": [
       "<Figure size 432x288 with 1 Axes>"
      ]
     },
     "metadata": {
      "needs_background": "light"
     },
     "output_type": "display_data"
    }
   ],
   "source": [
    "bw = 0.4\n",
    "lw = 1.5\n",
    "ax = a.plot.kde(label='Real-World Network', lw=lw, c='#666666', bw_method=bw)\n",
    "ax = b.plot.kde(ax=ax, label='Two-Way Converted', lw=lw, c='k', ls='--', bw_method=bw)\n",
    "ax.set_ylim(bottom=0)\n",
    "ax.set_xlim(left=-14, right=100)\n",
    "ax.set_xlabel('Blocks Traversed in Commute')\n",
    "ax.set_ylabel('Probability Density')\n",
    "plt.legend()\n",
    "plt.show()"
   ]
  },
  {
   "cell_type": "markdown",
   "metadata": {},
   "source": [
    "### Metric distance (meters traveled)"
   ]
  },
  {
   "cell_type": "code",
   "execution_count": 21,
   "metadata": {},
   "outputs": [
    {
     "data": {
      "text/html": [
       "<div>\n",
       "<style scoped>\n",
       "    .dataframe tbody tr th:only-of-type {\n",
       "        vertical-align: middle;\n",
       "    }\n",
       "\n",
       "    .dataframe tbody tr th {\n",
       "        vertical-align: top;\n",
       "    }\n",
       "\n",
       "    .dataframe thead th {\n",
       "        text-align: right;\n",
       "    }\n",
       "</style>\n",
       "<table border=\"1\" class=\"dataframe\">\n",
       "  <thead>\n",
       "    <tr style=\"text-align: right;\">\n",
       "      <th></th>\n",
       "      <th>meters_traveled_dir</th>\n",
       "      <th>meters_traveled_undir</th>\n",
       "    </tr>\n",
       "  </thead>\n",
       "  <tbody>\n",
       "    <tr>\n",
       "      <th>count</th>\n",
       "      <td>1136674.00</td>\n",
       "      <td>1136674.00</td>\n",
       "    </tr>\n",
       "    <tr>\n",
       "      <th>mean</th>\n",
       "      <td>6518.75</td>\n",
       "      <td>6439.03</td>\n",
       "    </tr>\n",
       "    <tr>\n",
       "      <th>std</th>\n",
       "      <td>3036.17</td>\n",
       "      <td>3013.21</td>\n",
       "    </tr>\n",
       "    <tr>\n",
       "      <th>min</th>\n",
       "      <td>126.58</td>\n",
       "      <td>126.58</td>\n",
       "    </tr>\n",
       "    <tr>\n",
       "      <th>25%</th>\n",
       "      <td>4214.43</td>\n",
       "      <td>4150.79</td>\n",
       "    </tr>\n",
       "    <tr>\n",
       "      <th>50%</th>\n",
       "      <td>6385.44</td>\n",
       "      <td>6303.53</td>\n",
       "    </tr>\n",
       "    <tr>\n",
       "      <th>75%</th>\n",
       "      <td>8685.32</td>\n",
       "      <td>8587.10</td>\n",
       "    </tr>\n",
       "    <tr>\n",
       "      <th>max</th>\n",
       "      <td>16692.29</td>\n",
       "      <td>16368.09</td>\n",
       "    </tr>\n",
       "  </tbody>\n",
       "</table>\n",
       "</div>"
      ],
      "text/plain": [
       "       meters_traveled_dir  meters_traveled_undir\n",
       "count           1136674.00             1136674.00\n",
       "mean               6518.75                6439.03\n",
       "std                3036.17                3013.21\n",
       "min                 126.58                 126.58\n",
       "25%                4214.43                4150.79\n",
       "50%                6385.44                6303.53\n",
       "75%                8685.32                8587.10\n",
       "max               16692.29               16368.09"
      ]
     },
     "execution_count": 21,
     "metadata": {},
     "output_type": "execute_result"
    }
   ],
   "source": [
    "left = od_dir['meters_traveled'].describe().round(2)\n",
    "left.name = 'meters_traveled_dir'\n",
    "right = od_undir['meters_traveled'].describe().round(2)\n",
    "right.name = 'meters_traveled_undir'\n",
    "pd.concat([left, right], axis='columns')"
   ]
  },
  {
   "cell_type": "code",
   "execution_count": 22,
   "metadata": {},
   "outputs": [
    {
     "name": "stdout",
     "output_type": "stream",
     "text": [
      "n=1136674, δ=79.72, t=722.18, p=0.0000\n"
     ]
    }
   ],
   "source": [
    "# are the average meters-traveled per trip significantly different?\n",
    "a = od_dir['meters_traveled']\n",
    "b = od_undir['meters_traveled']\n",
    "diff = a.mean() - b.mean()\n",
    "t, p = ttest_rel(a=a, b=b, alternative='greater', nan_policy='omit')\n",
    "print('n={:}, δ={:0.2f}, t={:0.2f}, p={:0.4f}'.format(len(a), diff, t, p))"
   ]
  },
  {
   "cell_type": "code",
   "execution_count": 23,
   "metadata": {},
   "outputs": [
    {
     "data": {
      "text/plain": [
       "1.0123801204443326"
      ]
     },
     "execution_count": 23,
     "metadata": {},
     "output_type": "execute_result"
    }
   ],
   "source": [
    "a.mean() / b.mean()"
   ]
  },
  {
   "cell_type": "code",
   "execution_count": 24,
   "metadata": {},
   "outputs": [
    {
     "data": {
      "text/plain": [
       "count    1136674.000\n",
       "mean          79.716\n",
       "std          117.684\n",
       "min           -0.000\n",
       "25%            7.668\n",
       "50%           36.645\n",
       "75%          106.147\n",
       "max         1590.783\n",
       "Name: meters_traveled, dtype: float64"
      ]
     },
     "execution_count": 24,
     "metadata": {},
     "output_type": "execute_result"
    }
   ],
   "source": [
    "difference = a - b\n",
    "difference.describe().round(3)"
   ]
  },
  {
   "cell_type": "code",
   "execution_count": 25,
   "metadata": {},
   "outputs": [
    {
     "data": {
      "text/plain": [
       "0.8980358484490716"
      ]
     },
     "execution_count": 25,
     "metadata": {},
     "output_type": "execute_result"
    }
   ],
   "source": [
    "# what % of trips had an increase between 1-way vs 2-way scenarios\n",
    "(difference > 0).sum() / len(difference)"
   ]
  },
  {
   "cell_type": "code",
   "execution_count": 26,
   "metadata": {},
   "outputs": [
    {
     "data": {
      "text/plain": [
       "count    1020774.00\n",
       "mean          88.77\n",
       "std          120.91\n",
       "min            0.00\n",
       "25%           14.35\n",
       "50%           46.38\n",
       "75%          116.69\n",
       "max         1590.78\n",
       "Name: meters_traveled, dtype: float64"
      ]
     },
     "execution_count": 26,
     "metadata": {},
     "output_type": "execute_result"
    }
   ],
   "source": [
    "# of trips that did increase, what is the mean?\n",
    "difference[difference > 0].describe().round(2)"
   ]
  },
  {
   "cell_type": "code",
   "execution_count": 27,
   "metadata": {},
   "outputs": [
    {
     "data": {
      "image/png": "[encoded data removed]",
      "text/plain": [
       "<Figure size 432x288 with 1 Axes>"
      ]
     },
     "metadata": {
      "needs_background": "light"
     },
     "output_type": "display_data"
    }
   ],
   "source": [
    "ax = difference.plot.hist(bins=30, ec='w', color='#666666', alpha=0.8, zorder=2)\n",
    "ax.set_xlim(left=0, right=500)\n",
    "ax.set_ylim(bottom=0)\n",
    "ax.grid(True)\n",
    "ax.set_xlabel('Meters saved in trip on two-way network')\n",
    "plt.show()"
   ]
  },
  {
   "cell_type": "markdown",
   "metadata": {},
   "source": [
    "## Surplus VKT and fuel consumption "
   ]
  },
  {
   "cell_type": "code",
   "execution_count": 28,
   "metadata": {},
   "outputs": [],
   "source": [
    "# converters\n",
    "miles_to_km = 1.60934 #factor to convert miles to km\n",
    "mpg_to_kpl = 0.425144 #factor to convert fuel economy miles/gallon to km/liter\n",
    "lb_per_gal_to_kg_per_liter = 0.119826 #factor to convert emissions from lb/gal to kg/liter\n",
    "co2_usd_ton = 50 #factor to convert metric tons of co2 to US dollars"
   ]
  },
  {
   "cell_type": "markdown",
   "metadata": {},
   "source": [
    "#### Excess VKT per day and per year\n",
    "\n",
    "What is the daily VKT in San Francisco? There are competing figures out there.\n",
    "\n",
    "**SFCTA**'s TNCs Today report appears to estimate VMT for trips that both begin and end within the city: \"Ride-hail vehicles drive approximately 570,000 vehicle miles within San Francisco on a typical weekday. This accounts for 20 percent of all local daily vehicle miles traveled\" from https://www.sfcta.org/tncstoday\n",
    "\n",
    "**CalTrans**'s 2017 Public Roads Data report appears to estimate all the VMT that occurs on the city's (county's) streets, even if the trip is just passing through SF (9,648,730 miles/day). https://dot.ca.gov/-/media/dot-media/programs/research-innovation-system-information/documents/prd2017.pdf\n",
    "\n",
    "Finally, SFCTA estimates 1,133,333 occur each day entirely within SF. \"On a typical weekday, ride-hail vehicles make more than 170,000 vehicle trips within San Francisco, approximately 12 times the number of taxi trips, representing 15 percent of all intra-San Francisco vehicle trips.\" from https://www.sfcta.org/tncstoday\n",
    "\n",
    "CA carbon pricing is contemporaneously \\$14.67 per 1000 kg (metric ton): https://www.eia.gov/todayinenergy/detail.php?id=34792 In Europe in 2021, it's around $50."
   ]
  },
  {
   "cell_type": "code",
   "execution_count": 29,
   "metadata": {},
   "outputs": [
    {
     "data": {
      "text/plain": [
       "4586619"
      ]
     },
     "execution_count": 29,
     "metadata": {},
     "output_type": "execute_result"
    }
   ],
   "source": [
    "#sf_daily_vmt = 9648730    #CalTrans estimate (all trips through SF)\n",
    "sf_daily_vmt = 570000 * 5 #SFCTA estimate (only trips entirely within SF)\n",
    "sf_daily_vkt = int(sf_daily_vmt * miles_to_km)\n",
    "sf_daily_vkt"
   ]
  },
  {
   "cell_type": "code",
   "execution_count": 30,
   "metadata": {},
   "outputs": [
    {
     "data": {
      "text/plain": [
       "56088"
      ]
     },
     "execution_count": 30,
     "metadata": {},
     "output_type": "execute_result"
    }
   ],
   "source": [
    "# estimate surplus VKT per day\n",
    "surplus_vkt_daily = int(sf_daily_vkt - (sf_daily_vkt / (a.mean() / b.mean())))\n",
    "surplus_vkt_daily"
   ]
  },
  {
   "cell_type": "code",
   "execution_count": 31,
   "metadata": {},
   "outputs": [
    {
     "data": {
      "text/plain": [
       "20472120"
      ]
     },
     "execution_count": 31,
     "metadata": {},
     "output_type": "execute_result"
    }
   ],
   "source": [
    "# estimate surplus VKT per year\n",
    "surplus_vkt_annual = int(surplus_vkt_daily * 365)\n",
    "surplus_vkt_annual"
   ]
  },
  {
   "cell_type": "markdown",
   "metadata": {},
   "source": [
    "#### Excess Fuel Consumption and GHG Emission\n",
    "\n",
    "Average US fuel economy is 24.7 miles/gallon: https://www.reuters.com/article/us-autos-emissions/u-s-vehicle-fuel-economy-rises-to-record-24-7-mpg-epa-idUSKBN1F02BX\n",
    "\n",
    "Burning 1 gallon of gasoline releases 20 lbs of CO2: https://www.fueleconomy.gov/feg/contentIncludes/co2_inc.htm"
   ]
  },
  {
   "cell_type": "code",
   "execution_count": 32,
   "metadata": {},
   "outputs": [
    {
     "data": {
      "text/plain": [
       "10.5010568"
      ]
     },
     "execution_count": 32,
     "metadata": {},
     "output_type": "execute_result"
    }
   ],
   "source": [
    "# what is the average US fuel economy in km/liter?\n",
    "fuel_econ_mpg = 24.7 #per reuters\n",
    "fuel_econ_kpl = fuel_econ_mpg * mpg_to_kpl\n",
    "fuel_econ_kpl"
   ]
  },
  {
   "cell_type": "code",
   "execution_count": 33,
   "metadata": {},
   "outputs": [
    {
     "data": {
      "text/plain": [
       "1949529"
      ]
     },
     "execution_count": 33,
     "metadata": {},
     "output_type": "execute_result"
    }
   ],
   "source": [
    "# how many surplus liters of fuel does this waste per year?\n",
    "surplus_fuel_liters = surplus_vkt_annual / fuel_econ_kpl\n",
    "int(surplus_fuel_liters)"
   ]
  },
  {
   "cell_type": "code",
   "execution_count": 34,
   "metadata": {},
   "outputs": [
    {
     "data": {
      "text/plain": [
       "2.39652"
      ]
     },
     "execution_count": 34,
     "metadata": {},
     "output_type": "execute_result"
    }
   ],
   "source": [
    "# how many kg of CO2 are released from combusting 1 liter of gasoline?\n",
    "co2_lbs_per_gal = 20 #per fueleconomy.gov\n",
    "co2_kg_per_liter = co2_lbs_per_gal * lb_per_gal_to_kg_per_liter\n",
    "co2_kg_per_liter"
   ]
  },
  {
   "cell_type": "code",
   "execution_count": 35,
   "metadata": {},
   "outputs": [
    {
     "data": {
      "text/plain": [
       "4672086"
      ]
     },
     "execution_count": 35,
     "metadata": {},
     "output_type": "execute_result"
    }
   ],
   "source": [
    "# how many excess kg of CO2 are released each year?\n",
    "co2_excess_kg = int(surplus_fuel_liters * co2_kg_per_liter)\n",
    "co2_excess_kg"
   ]
  },
  {
   "cell_type": "code",
   "execution_count": 36,
   "metadata": {},
   "outputs": [
    {
     "data": {
      "text/plain": [
       "233604.30000000002"
      ]
     },
     "execution_count": 36,
     "metadata": {},
     "output_type": "execute_result"
    }
   ],
   "source": [
    "# price in USD for this excess CO2\n",
    "co2_usd_ton * (co2_excess_kg / 1000)"
   ]
  },
  {
   "cell_type": "markdown",
   "metadata": {},
   "source": [
    "## Save to disk"
   ]
  },
  {
   "cell_type": "code",
   "execution_count": 37,
   "metadata": {},
   "outputs": [
    {
     "data": {
      "text/html": [
       "<div>\n",
       "<style scoped>\n",
       "    .dataframe tbody tr th:only-of-type {\n",
       "        vertical-align: middle;\n",
       "    }\n",
       "\n",
       "    .dataframe tbody tr th {\n",
       "        vertical-align: top;\n",
       "    }\n",
       "\n",
       "    .dataframe thead th {\n",
       "        text-align: right;\n",
       "    }\n",
       "</style>\n",
       "<table border=\"1\" class=\"dataframe\">\n",
       "  <thead>\n",
       "    <tr style=\"text-align: right;\">\n",
       "      <th></th>\n",
       "      <th>orig</th>\n",
       "      <th>dest</th>\n",
       "      <th>edges_traversed_dir</th>\n",
       "      <th>meters_traveled_dir</th>\n",
       "      <th>edges_traversed_undir</th>\n",
       "      <th>meters_traveled_undir</th>\n",
       "    </tr>\n",
       "  </thead>\n",
       "  <tbody>\n",
       "    <tr>\n",
       "      <th>0</th>\n",
       "      <td>65306764</td>\n",
       "      <td>642898094</td>\n",
       "      <td>75</td>\n",
       "      <td>9643.898</td>\n",
       "      <td>74</td>\n",
       "      <td>9557.725</td>\n",
       "    </tr>\n",
       "    <tr>\n",
       "      <th>1</th>\n",
       "      <td>65314212</td>\n",
       "      <td>6358814118</td>\n",
       "      <td>64</td>\n",
       "      <td>8316.077</td>\n",
       "      <td>63</td>\n",
       "      <td>8226.530</td>\n",
       "    </tr>\n",
       "    <tr>\n",
       "      <th>2</th>\n",
       "      <td>65341411</td>\n",
       "      <td>775320362</td>\n",
       "      <td>25</td>\n",
       "      <td>2222.615</td>\n",
       "      <td>23</td>\n",
       "      <td>2207.026</td>\n",
       "    </tr>\n",
       "    <tr>\n",
       "      <th>3</th>\n",
       "      <td>65343295</td>\n",
       "      <td>355490997</td>\n",
       "      <td>80</td>\n",
       "      <td>10619.604</td>\n",
       "      <td>76</td>\n",
       "      <td>10444.587</td>\n",
       "    </tr>\n",
       "    <tr>\n",
       "      <th>4</th>\n",
       "      <td>65334604</td>\n",
       "      <td>258967884</td>\n",
       "      <td>42</td>\n",
       "      <td>4429.557</td>\n",
       "      <td>41</td>\n",
       "      <td>4391.094</td>\n",
       "    </tr>\n",
       "  </tbody>\n",
       "</table>\n",
       "</div>"
      ],
      "text/plain": [
       "       orig        dest  edges_traversed_dir  meters_traveled_dir  \\\n",
       "0  65306764   642898094                   75             9643.898   \n",
       "1  65314212  6358814118                   64             8316.077   \n",
       "2  65341411   775320362                   25             2222.615   \n",
       "3  65343295   355490997                   80            10619.604   \n",
       "4  65334604   258967884                   42             4429.557   \n",
       "\n",
       "   edges_traversed_undir  meters_traveled_undir  \n",
       "0                     74               9557.725  \n",
       "1                     63               8226.530  \n",
       "2                     23               2207.026  \n",
       "3                     76              10444.587  \n",
       "4                     41               4391.094  "
      ]
     },
     "execution_count": 37,
     "metadata": {},
     "output_type": "execute_result"
    }
   ],
   "source": [
    "left = od_dir\n",
    "right = od_undir[['edges_traversed', 'meters_traveled']]\n",
    "df = pd.merge(left, right, left_index=True, right_index=True, suffixes=('_dir', '_undir'))\n",
    "df.head()"
   ]
  },
  {
   "cell_type": "code",
   "execution_count": 38,
   "metadata": {},
   "outputs": [],
   "source": [
    "# save to disk\n",
    "df.to_csv('data/od_distances-no-fwy-igraph-randomODs.csv', index=False, encoding='utf-8')"
   ]
  },
  {
   "cell_type": "code",
   "execution_count": null,
   "metadata": {},
   "outputs": [],
   "source": []
  }
 ],
 "metadata": {
  "kernelspec": {
   "display_name": "Python (ox)",
   "language": "python",
   "name": "ox"
  },
  "language_info": {
   "codemirror_mode": {
    "name": "ipython",
    "version": 3
   },
   "file_extension": ".py",
   "mimetype": "text/x-python",
   "name": "python",
   "nbconvert_exporter": "python",
   "pygments_lexer": "ipython3",
   "version": "3.9.7"
  }
 },
 "nbformat": 4,
 "nbformat_minor": 4
}
